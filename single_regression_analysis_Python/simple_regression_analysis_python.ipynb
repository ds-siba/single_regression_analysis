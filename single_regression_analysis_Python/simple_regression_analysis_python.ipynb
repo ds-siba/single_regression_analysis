{
 "cells": [
  {
   "cell_type": "code",
   "execution_count": 27,
   "id": "72d85896-33a5-4c01-94b2-fed19a216b1c",
   "metadata": {},
   "outputs": [],
   "source": [
    "#　ライブラリ読み込み\n",
    "%matplotlib inline\n",
    "import matplotlib.pyplot as plt\n",
    "import pandas as pd\n",
    "import numpy as np\n",
    "import statsmodels.formula.api as smf\n",
    "\n",
    "# データの読み込み\n",
    "df = pd.read_csv(\"data/advertising_data.csv\")\n",
    "\n",
    "# 散布図\n",
    "X = df[['ad']]\n",
    "y = df[['sales']]\n",
    "plt.scatter(X, y)\n",
    "plt.xlabel(\"ad\")\n",
    "plt.ylabel(\"sales\")"
   ]
  },
  {
   "cell_type": "code",
   "execution_count": 40,
   "id": "a2091549-33bf-481f-8e1c-b6770a81021c",
   "metadata": {},
   "outputs": [
    {
     "data": {
      "text/html": [
       "<div>\n",
       "<style scoped>\n",
       "    .dataframe tbody tr th:only-of-type {\n",
       "        vertical-align: middle;\n",
       "    }\n",
       "\n",
       "    .dataframe tbody tr th {\n",
       "        vertical-align: top;\n",
       "    }\n",
       "\n",
       "    .dataframe thead th {\n",
       "        text-align: right;\n",
       "    }\n",
       "</style>\n",
       "<table border=\"1\" class=\"dataframe\">\n",
       "  <thead>\n",
       "    <tr style=\"text-align: right;\">\n",
       "      <th></th>\n",
       "      <th>ad</th>\n",
       "      <th>sales</th>\n",
       "    </tr>\n",
       "  </thead>\n",
       "  <tbody>\n",
       "    <tr>\n",
       "      <th>ad</th>\n",
       "      <td>1.000000</td>\n",
       "      <td>0.929376</td>\n",
       "    </tr>\n",
       "    <tr>\n",
       "      <th>sales</th>\n",
       "      <td>0.929376</td>\n",
       "      <td>1.000000</td>\n",
       "    </tr>\n",
       "  </tbody>\n",
       "</table>\n",
       "</div>"
      ],
      "text/plain": [
       "             ad     sales\n",
       "ad     1.000000  0.929376\n",
       "sales  0.929376  1.000000"
      ]
     },
     "execution_count": 40,
     "metadata": {},
     "output_type": "execute_result"
    }
   ],
   "source": [
    "# 相関係数の確認\n",
    "df.corr()"
   ]
  },
  {
   "cell_type": "code",
   "execution_count": 41,
   "id": "502f7ae7-763a-43f6-85b9-0ab19bc4e98e",
   "metadata": {},
   "outputs": [
    {
     "name": "stdout",
     "output_type": "stream",
     "text": [
      "Intercept    116.969697\n",
      "ad             2.212121\n",
      "dtype: float64\n"
     ]
    }
   ],
   "source": [
    "# 最小二乗法モデルを作成・学習\n",
    "model = smf.ols(formula='sales ~ ad', data=df).fit()\n",
    "\n",
    "# 回帰係数と切片の表示\n",
    "print(model.params)"
   ]
  },
  {
   "cell_type": "code",
   "execution_count": 38,
   "id": "2a81d736-b257-4ced-b6c9-77740f8ec021",
   "metadata": {},
   "outputs": [
    {
     "data": {
      "text/plain": [
       "[<matplotlib.lines.Line2D at 0xffff7b357f70>]"
      ]
     },
     "execution_count": 38,
     "metadata": {},
     "output_type": "execute_result"
    },
    {
     "data": {
      "image/png": "[encoded data removed]",
      "text/plain": [
       "<Figure size 640x480 with 1 Axes>"
      ]
     },
     "metadata": {},
     "output_type": "display_data"
    }
   ],
   "source": [
    "# 散布図の再表示\n",
    "plt.scatter(X, y)\n",
    "plt.xlabel(\"ad\")\n",
    "plt.ylabel(\"sales\")\n",
    "\n",
    "# 回帰式を描画\n",
    "y_pred = model.predict(X)\n",
    "plt.plot(X, y_pred, 'r')"
   ]
  },
  {
   "cell_type": "code",
   "execution_count": 43,
   "id": "fd85ad27-273c-4cf8-836a-74ad0c3cacf8",
   "metadata": {},
   "outputs": [
    {
     "name": "stdout",
     "output_type": "stream",
     "text": [
      "0.8637400967311109\n"
     ]
    }
   ],
   "source": [
    "#　決定係数\n",
    "print(model.rsquared)"
   ]
  },
  {
   "cell_type": "code",
   "execution_count": 52,
   "id": "4fbd67d4-66f2-4576-9f8b-998abde0b59a",
   "metadata": {},
   "outputs": [
    {
     "name": "stdout",
     "output_type": "stream",
     "text": [
      "Intercept    0.854269\n",
      "ad           0.000100\n",
      "dtype: float64\n"
     ]
    }
   ],
   "source": [
    "# p値\n",
    "print(model.pvalues)"
   ]
  },
  {
   "cell_type": "code",
   "execution_count": 51,
   "id": "5f11db3a-8e26-44c5-abe3-d59976e8f4bf",
   "metadata": {},
   "outputs": [
    {
     "name": "stdout",
     "output_type": "stream",
     "text": [
      "                     0            1\n",
      "Intercept -1304.915776  1538.855170\n",
      "ad            1.495786     2.928457\n"
     ]
    }
   ],
   "source": [
    "# 95％信頼区間\n",
    "print(model.conf_int())"
   ]
  },
  {
   "cell_type": "code",
   "execution_count": null,
   "id": "b5fdd2a4-38fa-4760-a625-c413cd47cd33",
   "metadata": {},
   "outputs": [],
   "source": []
  }
 ],
 "metadata": {
  "kernelspec": {
   "display_name": "Python 3 (ipykernel)",
   "language": "python",
   "name": "python3"
  },
  "language_info": {
   "codemirror_mode": {
    "name": "ipython",
    "version": 3
   },
   "file_extension": ".py",
   "mimetype": "text/x-python",
   "name": "python",
   "nbconvert_exporter": "python",
   "pygments_lexer": "ipython3",
   "version": "3.10.9"
  }
 },
 "nbformat": 4,
 "nbformat_minor": 5
}
